{
 "cells": [
  {
   "cell_type": "code",
   "execution_count": 1,
   "metadata": {},
   "outputs": [],
   "source": [
    "from bs4 import BeautifulSoup\n",
    "import requests"
   ]
  },
  {
   "cell_type": "code",
   "execution_count": null,
   "metadata": {},
   "outputs": [],
   "source": [
    "url = f'https://www.metacritic.com/browse/albums/artist/{letter}?page=0'\n",
    "headers = {'User-Agent':\n",
    "       'Mozilla/5.0 (Windows NT 6.1; WOW64) AppleWebKit/537.36 (KHTML, like Gecko) Chrome/56.0.2924.76 Safari/537.36'}\n",
    "\n",
    "page = requests.get(url, headers = headers)\n",
    "soup = BeautifulSoup(page.content, 'html.parser')"
   ]
  },
  {
   "cell_type": "code",
   "execution_count": 17,
   "metadata": {},
   "outputs": [],
   "source": [
    "colors = '''<div class=\"color-list__items\"><div class=\"color-list__item\"><div class=\"color-list__color\" style=\"background: rgb(71, 219, 205) none repeat scroll 0% 0%;\"></div> <div class=\"color-list__desc\"><div title=\"Copy color\" class=\"color-list__color-value\"><span>HEX:</span> <span>#47dbcd</span></div> <div title=\"Copy color\" class=\"color-list__color-value\"><span>RGA:</span> <span>71, 219, 205</span></div> <div title=\"Copy color\" class=\"color-list__color-value\"><span>HSL:</span> <span>174.32, 67.27%, 56.86%</span></div></div></div><div class=\"color-list__item\"><div class=\"color-list__color\" style=\"background: rgb(75, 217, 206) none repeat scroll 0% 0%;\"></div> <div class=\"color-list__desc\"><div title=\"Copy color\" class=\"color-list__color-value\"><span>HEX:</span> <span>#4bd9ce</span></div> <div title=\"Copy color\" class=\"color-list__color-value\"><span>RGA:</span> <span>75, 217, 206</span></div> <div title=\"Copy color\" class=\"color-list__color-value\"><span>HSL:</span> <span>175.35, 65.14%, 57.25%</span></div></div></div><div class=\"color-list__item\"><div class=\"color-list__color\" style=\"background: rgb(80, 216, 207) none repeat scroll 0% 0%;\"></div> <div class=\"color-list__desc\"><div title=\"Copy color\" class=\"color-list__color-value\"><span>HEX:</span> <span>#50d8cf</span></div> <div title=\"Copy color\" class=\"color-list__color-value\"><span>RGA:</span> <span>80, 216, 207</span></div> <div title=\"Copy color\" class=\"color-list__color-value\"><span>HSL:</span> <span>176.03, 63.55%, 58.04%</span></div></div></div><div class=\"color-list__item\"><div class=\"color-list__color\" style=\"background: rgb(84, 214, 208) none repeat scroll 0% 0%;\"></div> <div class=\"color-list__desc\"><div title=\"Copy color\" class=\"color-list__color-value\"><span>HEX:</span> <span>#54d6d0</span></div> <div title=\"Copy color\" class=\"color-list__color-value\"><span>RGA:</span> <span>84, 214, 208</span></div> <div title=\"Copy color\" class=\"color-list__color-value\"><span>HSL:</span> <span>177.23, 61.32%, 58.43%</span></div></div></div><div class=\"color-list__item\"><div class=\"color-list__color\" style=\"background: rgb(89, 213, 209) none repeat scroll 0% 0%;\"></div> <div class=\"color-list__desc\"><div title=\"Copy color\" class=\"color-list__color-value\"><span>HEX:</span> <span>#59d5d1</span></div> <div title=\"Copy color\" class=\"color-list__color-value\"><span>RGA:</span> <span>89, 213, 209</span></div> <div title=\"Copy color\" class=\"color-list__color-value\"><span>HSL:</span> <span>178.06, 59.62%, 59.22%</span></div></div></div><div class=\"color-list__item\"><div class=\"color-list__color\" style=\"background: rgb(93, 211, 210) none repeat scroll 0% 0%;\"></div> <div class=\"color-list__desc\"><div title=\"Copy color\" class=\"color-list__color-value\"><span>HEX:</span> <span>#5dd3d2</span></div> <div title=\"Copy color\" class=\"color-list__color-value\"><span>RGA:</span> <span>93, 211, 210</span></div> <div title=\"Copy color\" class=\"color-list__color-value\"><span>HSL:</span> <span>179.49, 57.28%, 59.61%</span></div></div></div><div class=\"color-list__item\"><div class=\"color-list__color\" style=\"background: rgb(97, 210, 211) none repeat scroll 0% 0%;\"></div> <div class=\"color-list__desc\"><div title=\"Copy color\" class=\"color-list__color-value\"><span>HEX:</span> <span>#61d2d3</span></div> <div title=\"Copy color\" class=\"color-list__color-value\"><span>RGA:</span> <span>97, 210, 211</span></div> <div title=\"Copy color\" class=\"color-list__color-value\"><span>HSL:</span> <span>180.53, 56.44%, 60.39%</span></div></div></div><div class=\"color-list__item\"><div class=\"color-list__color\" style=\"background: rgb(102, 208, 212) none repeat scroll 0% 0%;\"></div> <div class=\"color-list__desc\"><div title=\"Copy color\" class=\"color-list__color-value\"><span>HEX:</span> <span>#66d0d4</span></div> <div title=\"Copy color\" class=\"color-list__color-value\"><span>RGA:</span> <span>102, 208, 212</span></div> <div title=\"Copy color\" class=\"color-list__color-value\"><span>HSL:</span> <span>182.18, 56.12%, 61.57%</span></div></div></div><div class=\"color-list__item\"><div class=\"color-list__color\" style=\"background: rgb(106, 207, 213) none repeat scroll 0% 0%;\"></div> <div class=\"color-list__desc\"><div title=\"Copy color\" class=\"color-list__color-value\"><span>HEX:</span> <span>#6acfd5</span></div> <div title=\"Copy color\" class=\"color-list__color-value\"><span>RGA:</span> <span>106, 207, 213</span></div> <div title=\"Copy color\" class=\"color-list__color-value\"><span>HSL:</span> <span>183.36, 56.02%, 62.55%</span></div></div></div><div class=\"color-list__item\"><div class=\"color-list__color\" style=\"background: rgb(111, 205, 214) none repeat scroll 0% 0%;\"></div> <div class=\"color-list__desc\"><div title=\"Copy color\" class=\"color-list__color-value\"><span>HEX:</span> <span>#6fcdd6</span></div> <div title=\"Copy color\" class=\"color-list__color-value\"><span>RGA:</span> <span>111, 205, 214</span></div> <div title=\"Copy color\" class=\"color-list__color-value\"><span>HSL:</span> <span>185.24, 55.68%, 63.73%</span></div></div></div><div class=\"color-list__item\"><div class=\"color-list__color\" style=\"background: rgb(115, 204, 214) none repeat scroll 0% 0%;\"></div> <div class=\"color-list__desc\"><div title=\"Copy color\" class=\"color-list__color-value\"><span>HEX:</span> <span>#73ccd6</span></div> <div title=\"Copy color\" class=\"color-list__color-value\"><span>RGA:</span> <span>115, 204, 214</span></div> <div title=\"Copy color\" class=\"color-list__color-value\"><span>HSL:</span> <span>186.06, 54.7%, 64.51%</span></div></div></div><div class=\"color-list__item\"><div class=\"color-list__color\" style=\"background: rgb(120, 202, 215) none repeat scroll 0% 0%;\"></div> <div class=\"color-list__desc\"><div title=\"Copy color\" class=\"color-list__color-value\"><span>HEX:</span> <span>#78cad7</span></div> <div title=\"Copy color\" class=\"color-list__color-value\"><span>RGA:</span> <span>120, 202, 215</span></div> <div title=\"Copy color\" class=\"color-list__color-value\"><span>HSL:</span> <span>188.21, 54.29%, 65.69%</span></div></div></div><div class=\"color-list__item\"><div class=\"color-list__color\" style=\"background: rgb(124, 201, 216) none repeat scroll 0% 0%;\"></div> <div class=\"color-list__desc\"><div title=\"Copy color\" class=\"color-list__color-value\"><span>HEX:</span> <span>#7cc9d8</span></div> <div title=\"Copy color\" class=\"color-list__color-value\"><span>RGA:</span> <span>124, 201, 216</span></div> <div title=\"Copy color\" class=\"color-list__color-value\"><span>HSL:</span> <span>189.78, 54.12%, 66.67%</span></div></div></div><div class=\"color-list__item\"><div class=\"color-list__color\" style=\"background: rgb(128, 199, 217) none repeat scroll 0% 0%;\"></div> <div class=\"color-list__desc\"><div title=\"Copy color\" class=\"color-list__color-value\"><span>HEX:</span> <span>#80c7d9</span></div> <div title=\"Copy color\" class=\"color-list__color-value\"><span>RGA:</span> <span>128, 199, 217</span></div> <div title=\"Copy color\" class=\"color-list__color-value\"><span>HSL:</span> <span>192.13, 53.94%, 67.65%</span></div></div></div><div class=\"color-list__item\"><div class=\"color-list__color\" style=\"background: rgb(133, 198, 218) none repeat scroll 0% 0%;\"></div> <div class=\"color-list__desc\"><div title=\"Copy color\" class=\"color-list__color-value\"><span>HEX:</span> <span>#85c6da</span></div> <div title=\"Copy color\" class=\"color-list__color-value\"><span>RGA:</span> <span>133, 198, 218</span></div> <div title=\"Copy color\" class=\"color-list__color-value\"><span>HSL:</span> <span>194.12, 53.46%, 68.82%</span></div></div></div><div class=\"color-list__item\"><div class=\"color-list__color\" style=\"background: rgb(137, 196, 219) none repeat scroll 0% 0%;\"></div> <div class=\"color-list__desc\"><div title=\"Copy color\" class=\"color-list__color-value\"><span>HEX:</span> <span>#89c4db</span></div> <div title=\"Copy color\" class=\"color-list__color-value\"><span>RGA:</span> <span>137, 196, 219</span></div> <div title=\"Copy color\" class=\"color-list__color-value\"><span>HSL:</span> <span>196.83, 53.25%, 69.8%</span></div></div></div><div class=\"color-list__item\"><div class=\"color-list__color\" style=\"background: rgb(142, 195, 220) none repeat scroll 0% 0%;\"></div> <div class=\"color-list__desc\"><div title=\"Copy color\" class=\"color-list__color-value\"><span>HEX:</span> <span>#8ec3dc</span></div> <div title=\"Copy color\" class=\"color-list__color-value\"><span>RGA:</span> <span>142, 195, 220</span></div> <div title=\"Copy color\" class=\"color-list__color-value\"><span>HSL:</span> <span>199.23, 52.7%, 70.98%</span></div></div></div><div class=\"color-list__item\"><div class=\"color-list__color\" style=\"background: rgb(146, 193, 221) none repeat scroll 0% 0%;\"></div> <div class=\"color-list__desc\"><div title=\"Copy color\" class=\"color-list__color-value\"><span>HEX:</span> <span>#92c1dd</span></div> <div title=\"Copy color\" class=\"color-list__color-value\"><span>RGA:</span> <span>146, 193, 221</span></div> <div title=\"Copy color\" class=\"color-list__color-value\"><span>HSL:</span> <span>202.4, 52.45%, 71.96%</span></div></div></div><div class=\"color-list__item\"><div class=\"color-list__color\" style=\"background: rgb(150, 192, 222) none repeat scroll 0% 0%;\"></div> <div class=\"color-list__desc\"><div title=\"Copy color\" class=\"color-list__color-value\"><span>HEX:</span> <span>#96c0de</span></div> <div title=\"Copy color\" class=\"color-list__color-value\"><span>RGA:</span> <span>150, 192, 222</span></div> <div title=\"Copy color\" class=\"color-list__color-value\"><span>HSL:</span> <span>205, 52.17%, 72.94%</span></div></div></div><div class=\"color-list__item\"><div class=\"color-list__color\" style=\"background: rgb(155, 190, 223) none repeat scroll 0% 0%;\"></div> <div class=\"color-list__desc\"><div title=\"Copy color\" class=\"color-list__color-value\"><span>HEX:</span> <span>#9bbedf</span></div> <div title=\"Copy color\" class=\"color-list__color-value\"><span>RGA:</span> <span>155, 190, 223</span></div> <div title=\"Copy color\" class=\"color-list__color-value\"><span>HSL:</span> <span>209.12, 51.52%, 74.12%</span></div></div></div><div class=\"color-list__item\"><div class=\"color-list__color\" style=\"background: rgb(159, 189, 224) none repeat scroll 0% 0%;\"></div> <div class=\"color-list__desc\"><div title=\"Copy color\" class=\"color-list__color-value\"><span>HEX:</span> <span>#9fbde0</span></div> <div title=\"Copy color\" class=\"color-list__color-value\"><span>RGA:</span> <span>159, 189, 224</span></div> <div title=\"Copy color\" class=\"color-list__color-value\"><span>HSL:</span> <span>212.31, 51.18%, 75.1%</span></div></div></div><div class=\"color-list__item\"><div class=\"color-list__color\" style=\"background: rgb(164, 187, 225) none repeat scroll 0% 0%;\"></div> <div class=\"color-list__desc\"><div title=\"Copy color\" class=\"color-list__color-value\"><span>HEX:</span> <span>#a4bbe1</span></div> <div title=\"Copy color\" class=\"color-list__color-value\"><span>RGA:</span> <span>164, 187, 225</span></div> <div title=\"Copy color\" class=\"color-list__color-value\"><span>HSL:</span> <span>217.38, 50.41%, 76.27%</span></div></div></div><div class=\"color-list__item\"><div class=\"color-list__color\" style=\"background: rgb(168, 186, 226) none repeat scroll 0% 0%;\"></div> <div class=\"color-list__desc\"><div title=\"Copy color\" class=\"color-list__color-value\"><span>HEX:</span> <span>#a8bae2</span></div> <div title=\"Copy color\" class=\"color-list__color-value\"><span>RGA:</span> <span>168, 186, 226</span></div> <div title=\"Copy color\" class=\"color-list__color-value\"><span>HSL:</span> <span>221.38, 50%, 77.25%</span></div></div></div><div class=\"color-list__item\"><div class=\"color-list__color\" style=\"background: rgb(172, 184, 227) none repeat scroll 0% 0%;\"></div> <div class=\"color-list__desc\"><div title=\"Copy color\" class=\"color-list__color-value\"><span>HEX:</span> <span>#acb8e3</span></div> <div title=\"Copy color\" class=\"color-list__color-value\"><span>RGA:</span> <span>172, 184, 227</span></div> <div title=\"Copy color\" class=\"color-list__color-value\"><span>HSL:</span> <span>226.91, 49.55%, 78.24%</span></div></div></div><div class=\"color-list__item\"><div class=\"color-list__color\" style=\"background: rgb(177, 183, 228) none repeat scroll 0% 0%;\"></div> <div class=\"color-list__desc\"><div title=\"Copy color\" class=\"color-list__color-value\"><span>HEX:</span> <span>#b1b7e4</span></div> <div title=\"Copy color\" class=\"color-list__color-value\"><span>RGA:</span> <span>177, 183, 228</span></div> <div title=\"Copy color\" class=\"color-list__color-value\"><span>HSL:</span> <span>232.94, 48.57%, 79.41%</span></div></div></div><div class=\"color-list__item\"><div class=\"color-list__color\" style=\"background: rgb(181, 181, 229) none repeat scroll 0% 0%;\"></div> <div class=\"color-list__desc\"><div title=\"Copy color\" class=\"color-list__color-value\"><span>HEX:</span> <span>#b5b5e5</span></div> <div title=\"Copy color\" class=\"color-list__color-value\"><span>RGA:</span> <span>181, 181, 229</span></div> <div title=\"Copy color\" class=\"color-list__color-value\"><span>HSL:</span> <span>240, 48%, 80.39%</span></div></div></div><div class=\"color-list__item\"><div class=\"color-list__color\" style=\"background: rgb(186, 180, 230) none repeat scroll 0% 0%;\"></div> <div class=\"color-list__desc\"><div title=\"Copy color\" class=\"color-list__color-value\"><span>HEX:</span> <span>#bab4e6</span></div> <div title=\"Copy color\" class=\"color-list__color-value\"><span>RGA:</span> <span>186, 180, 230</span></div> <div title=\"Copy color\" class=\"color-list__color-value\"><span>HSL:</span> <span>247.2, 50%, 80.39%</span></div></div></div><div class=\"color-list__item\"><div class=\"color-list__color\" style=\"background: rgb(190, 178, 231) none repeat scroll 0% 0%;\"></div> <div class=\"color-list__desc\"><div title=\"Copy color\" class=\"color-list__color-value\"><span>HEX:</span> <span>#beb2e7</span></div> <div title=\"Copy color\" class=\"color-list__color-value\"><span>RGA:</span> <span>190, 178, 231</span></div> <div title=\"Copy color\" class=\"color-list__color-value\"><span>HSL:</span> <span>253.58, 52.48%, 80.2%</span></div></div></div><div class=\"color-list__item\"><div class=\"color-list__color\" style=\"background: rgb(194, 177, 232) none repeat scroll 0% 0%;\"></div> <div class=\"color-list__desc\"><div title=\"Copy color\" class=\"color-list__color-value\"><span>HEX:</span> <span>#c2b1e8</span></div> <div title=\"Copy color\" class=\"color-list__color-value\"><span>RGA:</span> <span>194, 177, 232</span></div> <div title=\"Copy color\" class=\"color-list__color-value\"><span>HSL:</span> <span>258.55, 54.46%, 80.2%</span></div></div></div><div class=\"color-list__item\"><div class=\"color-list__color\" style=\"background: rgb(199, 175, 233) none repeat scroll 0% 0%;\"></div> <div class=\"color-list__desc\"><div title=\"Copy color\" class=\"color-list__color-value\"><span>HEX:</span> <span>#c7afe9</span></div> <div title=\"Copy color\" class=\"color-list__color-value\"><span>RGA:</span> <span>199, 175, 233</span></div> <div title=\"Copy color\" class=\"color-list__color-value\"><span>HSL:</span> <span>264.83, 56.86%, 80%</span></div></div></div><div class=\"color-list__item\"><div class=\"color-list__color\" style=\"background: rgb(203, 174, 233) none repeat scroll 0% 0%;\"></div> <div class=\"color-list__desc\"><div title=\"Copy color\" class=\"color-list__color-value\"><span>HEX:</span> <span>#cbaee9</span></div> <div title=\"Copy color\" class=\"color-list__color-value\"><span>RGA:</span> <span>203, 174, 233</span></div> <div title=\"Copy color\" class=\"color-list__color-value\"><span>HSL:</span> <span>269.49, 57.28%, 79.8%</span></div></div></div><div class=\"color-list__item\"><div class=\"color-list__color\" style=\"background: rgb(208, 172, 234) none repeat scroll 0% 0%;\"></div> <div class=\"color-list__desc\"><div title=\"Copy color\" class=\"color-list__color-value\"><span>HEX:</span> <span>#d0acea</span></div> <div title=\"Copy color\" class=\"color-list__color-value\"><span>RGA:</span> <span>208, 172, 234</span></div> <div title=\"Copy color\" class=\"color-list__color-value\"><span>HSL:</span> <span>274.84, 59.62%, 79.61%</span></div></div></div><div class=\"color-list__item\"><div class=\"color-list__color\" style=\"background: rgb(212, 171, 235) none repeat scroll 0% 0%;\"></div> <div class=\"color-list__desc\"><div title=\"Copy color\" class=\"color-list__color-value\"><span>HEX:</span> <span>#d4abeb</span></div> <div title=\"Copy color\" class=\"color-list__color-value\"><span>RGA:</span> <span>212, 171, 235</span></div> <div title=\"Copy color\" class=\"color-list__color-value\"><span>HSL:</span> <span>278.44, 61.54%, 79.61%</span></div></div></div><div class=\"color-list__item\"><div class=\"color-list__color\" style=\"background: rgb(217, 169, 236) none repeat scroll 0% 0%;\"></div> <div class=\"color-list__desc\"><div title=\"Copy color\" class=\"color-list__color-value\"><span>HEX:</span> <span>#d9a9ec</span></div> <div title=\"Copy color\" class=\"color-list__color-value\"><span>RGA:</span> <span>217, 169, 236</span></div> <div title=\"Copy color\" class=\"color-list__color-value\"><span>HSL:</span> <span>282.99, 63.81%, 79.41%</span></div></div></div><div class=\"color-list__item\"><div class=\"color-list__color\" style=\"background: rgb(221, 168, 237) none repeat scroll 0% 0%;\"></div> <div class=\"color-list__desc\"><div title=\"Copy color\" class=\"color-list__color-value\"><span>HEX:</span> <span>#dda8ed</span></div> <div title=\"Copy color\" class=\"color-list__color-value\"><span>RGA:</span> <span>221, 168, 237</span></div> <div title=\"Copy color\" class=\"color-list__color-value\"><span>HSL:</span> <span>286.09, 65.71%, 79.41%</span></div></div></div><div class=\"color-list__item\"><div class=\"color-list__color\" style=\"background: rgb(225, 166, 238) none repeat scroll 0% 0%;\"></div> <div class=\"color-list__desc\"><div title=\"Copy color\" class=\"color-list__color-value\"><span>HEX:</span> <span>#e1a6ee</span></div> <div title=\"Copy color\" class=\"color-list__color-value\"><span>RGA:</span> <span>225, 166, 238</span></div> <div title=\"Copy color\" class=\"color-list__color-value\"><span>HSL:</span> <span>289.17, 67.92%, 79.22%</span></div></div></div><div class=\"color-list__item\"><div class=\"color-list__color\" style=\"background: rgb(230, 165, 239) none repeat scroll 0% 0%;\"></div> <div class=\"color-list__desc\"><div title=\"Copy color\" class=\"color-list__color-value\"><span>HEX:</span> <span>#e6a5ef</span></div> <div title=\"Copy color\" class=\"color-list__color-value\"><span>RGA:</span> <span>230, 165, 239</span></div> <div title=\"Copy color\" class=\"color-list__color-value\"><span>HSL:</span> <span>292.7, 69.81%, 79.22%</span></div></div></div><div class=\"color-list__item\"><div class=\"color-list__color\" style=\"background: rgb(234, 163, 240) none repeat scroll 0% 0%;\"></div> <div class=\"color-list__desc\"><div title=\"Copy color\" class=\"color-list__color-value\"><span>HEX:</span> <span>#eaa3f0</span></div> <div title=\"Copy color\" class=\"color-list__color-value\"><span>RGA:</span> <span>234, 163, 240</span></div> <div title=\"Copy color\" class=\"color-list__color-value\"><span>HSL:</span> <span>295.32, 71.96%, 79.02%</span></div></div></div><div class=\"color-list__item\"><div class=\"color-list__color\" style=\"background: rgb(239, 162, 241) none repeat scroll 0% 0%;\"></div> <div class=\"color-list__desc\"><div title=\"Copy color\" class=\"color-list__color-value\"><span>HEX:</span> <span>#efa2f1</span></div> <div title=\"Copy color\" class=\"color-list__color-value\"><span>RGA:</span> <span>239, 162, 241</span></div> <div title=\"Copy color\" class=\"color-list__color-value\"><span>HSL:</span> <span>298.48, 73.83%, 79.02%</span></div></div></div><div class=\"color-list__item\"><div class=\"color-list__color\" style=\"background: rgb(243, 160, 242) none repeat scroll 0% 0%;\"></div> <div class=\"color-list__desc\"><div title=\"Copy color\" class=\"color-list__color-value\"><span>HEX:</span> <span>#f3a0f2</span></div> <div title=\"Copy color\" class=\"color-list__color-value\"><span>RGA:</span> <span>243, 160, 242</span></div> <div title=\"Copy color\" class=\"color-list__color-value\"><span>HSL:</span> <span>300.72, 77.57%, 79.02%</span></div></div></div></div>'''"
   ]
  },
  {
   "cell_type": "code",
   "execution_count": 18,
   "metadata": {},
   "outputs": [
    {
     "data": {
      "text/plain": [
       "['#47dbcd',\n",
       " '#4bd9ce',\n",
       " '#50d8cf',\n",
       " '#54d6d0',\n",
       " '#59d5d1',\n",
       " '#5dd3d2',\n",
       " '#61d2d3',\n",
       " '#66d0d4',\n",
       " '#6acfd5',\n",
       " '#6fcdd6',\n",
       " '#73ccd6',\n",
       " '#78cad7',\n",
       " '#7cc9d8',\n",
       " '#80c7d9',\n",
       " '#85c6da',\n",
       " '#89c4db',\n",
       " '#8ec3dc',\n",
       " '#92c1dd',\n",
       " '#96c0de',\n",
       " '#9bbedf',\n",
       " '#9fbde0',\n",
       " '#a4bbe1',\n",
       " '#a8bae2',\n",
       " '#acb8e3',\n",
       " '#b1b7e4',\n",
       " '#b5b5e5',\n",
       " '#bab4e6',\n",
       " '#beb2e7',\n",
       " '#c2b1e8',\n",
       " '#c7afe9',\n",
       " '#cbaee9',\n",
       " '#d0acea',\n",
       " '#d4abeb',\n",
       " '#d9a9ec',\n",
       " '#dda8ed',\n",
       " '#e1a6ee',\n",
       " '#e6a5ef',\n",
       " '#eaa3f0',\n",
       " '#efa2f1',\n",
       " '#f3a0f2']"
      ]
     },
     "execution_count": 18,
     "metadata": {},
     "output_type": "execute_result"
    }
   ],
   "source": [
    "[i[:7] for i in colors.split(sep='<span>HEX:</span> <span>')][1:]"
   ]
  },
  {
   "cell_type": "code",
   "execution_count": null,
   "metadata": {},
   "outputs": [],
   "source": []
  }
 ],
 "metadata": {
  "kernelspec": {
   "display_name": "Python 3",
   "language": "python",
   "name": "python3"
  },
  "language_info": {
   "codemirror_mode": {
    "name": "ipython",
    "version": 3
   },
   "file_extension": ".py",
   "mimetype": "text/x-python",
   "name": "python",
   "nbconvert_exporter": "python",
   "pygments_lexer": "ipython3",
   "version": "3.7.3"
  }
 },
 "nbformat": 4,
 "nbformat_minor": 2
}
